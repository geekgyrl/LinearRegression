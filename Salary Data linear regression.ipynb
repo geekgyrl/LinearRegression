{
 "cells": [
  {
   "cell_type": "markdown",
   "id": "fa6a0dfb",
   "metadata": {},
   "source": [
    "## Simple Linear Regression for Salary Data"
   ]
  },
  {
   "cell_type": "markdown",
   "id": "06a9e4ae",
   "metadata": {},
   "source": [
    "### Project Objective\n",
    "To predict the salary of an employee given how many years of experience they have."
   ]
  },
  {
   "cell_type": "markdown",
   "id": "6c4ef24e",
   "metadata": {},
   "source": [
    "### Step 1: Import Packages & Dataset"
   ]
  },
  {
   "cell_type": "code",
   "execution_count": 480,
   "id": "a8358a9c",
   "metadata": {},
   "outputs": [],
   "source": [
    "import pandas as pd\n",
    "import matplotlib.pyplot as plt\n",
    "import seaborn as sns\n",
    "import numpy as np\n",
    "from sklearn.model_selection import train_test_split\n",
    "from sklearn.linear_model import LinearRegression"
   ]
  },
  {
   "cell_type": "markdown",
   "id": "7240b79e",
   "metadata": {},
   "source": [
    "### Import Data"
   ]
  },
  {
   "cell_type": "code",
   "execution_count": 511,
   "id": "d03d304a",
   "metadata": {},
   "outputs": [],
   "source": [
    "X = salary.iloc[:, :-1].values\n",
    "y = salary.iloc[:, 1].values"
   ]
  },
  {
   "cell_type": "code",
   "execution_count": 512,
   "id": "a0c9750c",
   "metadata": {},
   "outputs": [
    {
     "data": {
      "text/html": [
       "<div>\n",
       "<style scoped>\n",
       "    .dataframe tbody tr th:only-of-type {\n",
       "        vertical-align: middle;\n",
       "    }\n",
       "\n",
       "    .dataframe tbody tr th {\n",
       "        vertical-align: top;\n",
       "    }\n",
       "\n",
       "    .dataframe thead th {\n",
       "        text-align: right;\n",
       "    }\n",
       "</style>\n",
       "<table border=\"1\" class=\"dataframe\">\n",
       "  <thead>\n",
       "    <tr style=\"text-align: right;\">\n",
       "      <th></th>\n",
       "      <th>YearsExperience</th>\n",
       "      <th>Salary</th>\n",
       "    </tr>\n",
       "  </thead>\n",
       "  <tbody>\n",
       "    <tr>\n",
       "      <th>0</th>\n",
       "      <td>1.1</td>\n",
       "      <td>39343.0</td>\n",
       "    </tr>\n",
       "    <tr>\n",
       "      <th>1</th>\n",
       "      <td>1.3</td>\n",
       "      <td>46205.0</td>\n",
       "    </tr>\n",
       "    <tr>\n",
       "      <th>2</th>\n",
       "      <td>1.5</td>\n",
       "      <td>37731.0</td>\n",
       "    </tr>\n",
       "    <tr>\n",
       "      <th>3</th>\n",
       "      <td>2.0</td>\n",
       "      <td>43525.0</td>\n",
       "    </tr>\n",
       "    <tr>\n",
       "      <th>4</th>\n",
       "      <td>2.2</td>\n",
       "      <td>39891.0</td>\n",
       "    </tr>\n",
       "  </tbody>\n",
       "</table>\n",
       "</div>"
      ],
      "text/plain": [
       "   YearsExperience   Salary\n",
       "0              1.1  39343.0\n",
       "1              1.3  46205.0\n",
       "2              1.5  37731.0\n",
       "3              2.0  43525.0\n",
       "4              2.2  39891.0"
      ]
     },
     "execution_count": 512,
     "metadata": {},
     "output_type": "execute_result"
    }
   ],
   "source": [
    "salary=pd.read_csv('C:/Users/Joy/Desktop/Salary_Data.csv')\n",
    "salary.head()"
   ]
  },
  {
   "cell_type": "code",
   "execution_count": 539,
   "id": "ccf0e3bc",
   "metadata": {},
   "outputs": [
    {
     "name": "stderr",
     "output_type": "stream",
     "text": [
      "C:\\Users\\Evelyn\\anaconda3\\lib\\site-packages\\seaborn\\axisgrid.py:1969: UserWarning: The `size` parameter has been renamed to `height`; please update your code.\n",
      "  warnings.warn(msg, UserWarning)\n"
     ]
    },
    {
     "data": {
      "text/plain": [
       "<Figure size 864x432 with 0 Axes>"
      ]
     },
     "metadata": {},
     "output_type": "display_data"
    },
    {
     "data": {
      "image/png": "[encoded data removed]",
      "text/plain": [
       "<Figure size 504x504 with 1 Axes>"
      ]
     },
     "metadata": {
      "needs_background": "light"
     },
     "output_type": "display_data"
    }
   ],
   "source": [
    "plt.figure(figsize=(12,6))\n",
    "sns.pairplot(salary,x_vars=['YearsExperience'],y_vars=['Salary'],size=7,kind='scatter')\n",
    "plt.plot(X_train, lr.predict(X_train), color='black')\n",
    "plt.xlabel('Years of Experience')\n",
    "plt.ylabel('Salary')\n",
    "plt.show()"
   ]
  },
  {
   "cell_type": "code",
   "execution_count": null,
   "id": "9c7c8f84",
   "metadata": {},
   "outputs": [],
   "source": [
    "salary.describe()"
   ]
  },
  {
   "cell_type": "markdown",
   "id": "da214be7",
   "metadata": {},
   "source": [
    "#### Next we have to split the dataset into training and testing. \n",
    "We will use the training dataset for training the model and then check the performance of the model on the test dataset.\n",
    "For this we will use the train_test_split method from library model_selection.\n",
    "\n",
    "We are providing a test_size of 1/3 which means test set will contain 10 observations and training set will contain 20 observations."
   ]
  },
  {
   "cell_type": "markdown",
   "id": "2e280e4b",
   "metadata": {},
   "source": [
    "### Step 2: Split dataset into training set and testing set"
   ]
  },
  {
   "cell_type": "code",
   "execution_count": 514,
   "id": "9f72af48",
   "metadata": {},
   "outputs": [],
   "source": [
    "X_train, X_test, y_train, y_test = train_test_split(X ,y, test_size=0.3,random_state=0)"
   ]
  },
  {
   "cell_type": "markdown",
   "id": "24fc3aca",
   "metadata": {},
   "source": [
    "#### To kick off machine learning, we specify x and y variables as their own arrays, using subsetting.\n",
    "y is the column you are predicting, and x is everything you are using to predict it."
   ]
  },
  {
   "cell_type": "code",
   "execution_count": 515,
   "id": "5bc0b4cf",
   "metadata": {},
   "outputs": [
    {
     "data": {
      "text/plain": [
       "0    1.1\n",
       "1    1.3\n",
       "2    1.5\n",
       "3    2.0\n",
       "4    2.2\n",
       "Name: YearsExperience, dtype: float64"
      ]
     },
     "execution_count": 515,
     "metadata": {},
     "output_type": "execute_result"
    }
   ],
   "source": [
    "X = salary['YearsExperience']\n",
    "X.head()"
   ]
  },
  {
   "cell_type": "code",
   "execution_count": 516,
   "id": "49ea46d6",
   "metadata": {},
   "outputs": [
    {
     "data": {
      "text/plain": [
       "0    39343.0\n",
       "1    46205.0\n",
       "2    37731.0\n",
       "3    43525.0\n",
       "4    39891.0\n",
       "Name: Salary, dtype: float64"
      ]
     },
     "execution_count": 516,
     "metadata": {},
     "output_type": "execute_result"
    }
   ],
   "source": [
    "y = salary['Salary']\n",
    "y.head()"
   ]
  },
  {
   "cell_type": "code",
   "execution_count": 517,
   "id": "9a5cda8e",
   "metadata": {},
   "outputs": [
    {
     "data": {
      "text/plain": [
       "array([[ 7.9],\n",
       "       [ 2.9],\n",
       "       [ 5.1],\n",
       "       [ 3.2],\n",
       "       [ 4.5],\n",
       "       [ 8.2],\n",
       "       [ 6.8],\n",
       "       [ 1.3],\n",
       "       [10.5],\n",
       "       [ 3. ],\n",
       "       [ 2.2],\n",
       "       [ 5.9],\n",
       "       [ 6. ],\n",
       "       [ 3.7],\n",
       "       [ 3.2],\n",
       "       [ 9. ],\n",
       "       [ 2. ],\n",
       "       [ 1.1],\n",
       "       [ 7.1],\n",
       "       [ 4.9],\n",
       "       [ 4. ]])"
      ]
     },
     "execution_count": 517,
     "metadata": {},
     "output_type": "execute_result"
    }
   ],
   "source": [
    "X_train"
   ]
  },
  {
   "cell_type": "code",
   "execution_count": 518,
   "id": "626283e8",
   "metadata": {},
   "outputs": [],
   "source": [
    "#y_train"
   ]
  },
  {
   "cell_type": "code",
   "execution_count": 519,
   "id": "fb1b2e92",
   "metadata": {},
   "outputs": [],
   "source": [
    "#X_test"
   ]
  },
  {
   "cell_type": "code",
   "execution_count": 520,
   "id": "8f1dcac5",
   "metadata": {},
   "outputs": [],
   "source": [
    "#y_test"
   ]
  },
  {
   "cell_type": "markdown",
   "id": "5c262733",
   "metadata": {},
   "source": [
    "### Step 3: Instantiate Simple Linear Regression model and fit to training set"
   ]
  },
  {
   "cell_type": "code",
   "execution_count": 534,
   "id": "5a9a69da",
   "metadata": {},
   "outputs": [
    {
     "data": {
      "text/plain": [
       "LinearRegression()"
      ]
     },
     "execution_count": 534,
     "metadata": {},
     "output_type": "execute_result"
    }
   ],
   "source": [
    "lr = LinearRegression()\n",
    "lr.fit(X_train,y_train)"
   ]
  },
  {
   "cell_type": "markdown",
   "id": "12cae795",
   "metadata": {},
   "source": [
    "### Step 4: Predict the test set"
   ]
  },
  {
   "cell_type": "markdown",
   "id": "e0d0eb3d",
   "metadata": {},
   "source": [
    "#### Predicting the Salary for the Test values\n",
    "Using the regressor we trained in the previous \n",
    "step, we will now use it to predict the results of \n",
    "the test set and compare the predicted values with the actual values\n",
    "\n",
    "Now we have the y_pred which are the predicted values from our Model and y_test which are the actual values.\n",
    "Let us compare are see how well our model did. As you can see from the screenshot below — our basic model did pretty well."
   ]
  },
  {
   "cell_type": "code",
   "execution_count": 536,
   "id": "d3125d1a",
   "metadata": {},
   "outputs": [],
   "source": [
    "y_pred = lr.predict(X_test)"
   ]
  },
  {
   "cell_type": "code",
   "execution_count": 537,
   "id": "68ee37e3",
   "metadata": {},
   "outputs": [
    {
     "data": {
      "text/plain": [
       "array([ 37731., 122391.,  57081.,  63218., 116969., 109431., 112635.,\n",
       "        55794.,  83088.])"
      ]
     },
     "execution_count": 537,
     "metadata": {},
     "output_type": "execute_result"
    }
   ],
   "source": [
    "y_test"
   ]
  },
  {
   "cell_type": "code",
   "execution_count": 538,
   "id": "e8a23018",
   "metadata": {},
   "outputs": [
    {
     "data": {
      "text/plain": [
       "array([ 40817.78327049, 123188.08258899,  65154.46261459,  63282.41035735,\n",
       "       115699.87356004, 108211.66453108, 116635.89968866,  64218.43648597,\n",
       "        76386.77615802])"
      ]
     },
     "execution_count": 538,
     "metadata": {},
     "output_type": "execute_result"
    }
   ],
   "source": [
    "y_pred"
   ]
  },
  {
   "cell_type": "markdown",
   "id": "283fa1f4",
   "metadata": {},
   "source": [
    "#### If we take the first employee — the actual salary is $37,731 \n",
    "and our model predicted 39,309 — which is not too bad.\n",
    "There are some predictions that are off but some are pretty close."
   ]
  },
  {
   "cell_type": "markdown",
   "id": "a6ad7670",
   "metadata": {},
   "source": [
    "### Step 5 — Visualizing the training set\n",
    "First we’ll plot the actual data points of training set — X_train and y_train"
   ]
  },
  {
   "cell_type": "code",
   "execution_count": 551,
   "id": "b21eecb4",
   "metadata": {},
   "outputs": [
    {
     "data": {
      "image/png": "[encoded data removed]",
      "text/plain": [
       "<Figure size 432x288 with 1 Axes>"
      ]
     },
     "metadata": {
      "needs_background": "light"
     },
     "output_type": "display_data"
    }
   ],
   "source": [
    "# plot the actual data points of training set\n",
    "plt.scatter(X_train, y_train, color = 'black', label='True Value')\n",
    "# plot the regression line\n",
    "plt.plot(X_train, lr.predict(X_train), color='blue', linewidth=2, label='Prediction')\n",
    "plt.title('Prediction Result of Training Data')\n",
    "plt.xlabel('Years of Experience')\n",
    "plt.ylabel('Salary')\n",
    "plt.legend()\n",
    "plt.show()"
   ]
  },
  {
   "cell_type": "markdown",
   "id": "7bec81fb",
   "metadata": {},
   "source": [
    "### Step 6 — Visualizing the test set\n",
    "Let’s visualize the test results.\n",
    "First we’ll plot the actual data points of training set — X_test and y_test"
   ]
  },
  {
   "cell_type": "code",
   "execution_count": 556,
   "id": "803ac409",
   "metadata": {},
   "outputs": [
    {
     "data": {
      "image/png": "[encoded data removed]",
      "text/plain": [
       "<Figure size 432x288 with 1 Axes>"
      ]
     },
     "metadata": {
      "needs_background": "light"
     },
     "output_type": "display_data"
    }
   ],
   "source": [
    "# plot the actual data points of test set\n",
    "plt.figure()\n",
    "plt.scatter(X_test, y_test, color = 'red', label='True Value')\n",
    "# plot the regression line (same as above)\n",
    "plt.plot(X_test, lr.predict(X_test), color='blue', linewidth=2, label='Prediction')\n",
    "plt.title('Prediction Result of Test data')\n",
    "plt.xlabel('Years of Experience')\n",
    "plt.ylabel('Salary')\n",
    "plt.legend()\n",
    "plt.show()"
   ]
  },
  {
   "cell_type": "code",
   "execution_count": 527,
   "id": "4b3ee131",
   "metadata": {
    "scrolled": true
   },
   "outputs": [
    {
     "data": {
      "image/png": "[encoded data removed]",
      "text/plain": [
       "<Figure size 432x288 with 1 Axes>"
      ]
     },
     "metadata": {
      "needs_background": "light"
     },
     "output_type": "display_data"
    }
   ],
   "source": [
    "# Step 6 - Visualize test set results\n",
    "# plot the actual data points of test set\n",
    "plt.scatter(X_test, y_test, color = 'red')\n",
    "# plot the regression line (same as above)\n",
    "plt.plot(X_trai, lr.predict(X_train), color='blue')\n",
    "plt.title('Salary vs Experience (Test set)')\n",
    "plt.xlabel('Years of Experience')\n",
    "plt.ylabel('Salary')\n",
    "plt.show()"
   ]
  },
  {
   "cell_type": "markdown",
   "id": "2e5ad2eb",
   "metadata": {},
   "source": [
    "### Step 7 — Make new predictions"
   ]
  },
  {
   "cell_type": "markdown",
   "id": "f4ba28f3",
   "metadata": {},
   "source": [
    "#### We can also make brand new predictions for data points that do not exist in the dataset. Like for a person with 15 years experience"
   ]
  },
  {
   "cell_type": "code",
   "execution_count": 528,
   "id": "d45ecffa",
   "metadata": {},
   "outputs": [
    {
     "name": "stdout",
     "output_type": "stream",
     "text": [
      "The predicted salary of a person with 10 years experience is  [120380.00420313]\n"
     ]
    }
   ],
   "source": [
    "new_salary_pred = lr.predict([[10]])\n",
    "print('The predicted salary of a person with 10 years experience is ',new_salary_pred)"
   ]
  }
 ],
 "metadata": {
  "kernelspec": {
   "display_name": "Python 3",
   "language": "python",
   "name": "python3"
  },
  "language_info": {
   "codemirror_mode": {
    "name": "ipython",
    "version": 3
   },
   "file_extension": ".py",
   "mimetype": "text/x-python",
   "name": "python",
   "nbconvert_exporter": "python",
   "pygments_lexer": "ipython3",
   "version": "3.8.8"
  }
 },
 "nbformat": 4,
 "nbformat_minor": 5
}
